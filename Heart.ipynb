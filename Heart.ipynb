{
 "cells": [
  {
   "cell_type": "code",
   "execution_count": 2,
   "metadata": {},
   "outputs": [],
   "source": [
    "import pandas as pd\n",
    "import numpy as np\n",
    "import matplotlib.pyplot as plt\n",
    "from sklearn.tree import DecisionTreeClassifier\n",
    "from sklearn.tree import plot_tree\n",
    "from sklearn.model_selection import train_test_split\n",
    "from sklearn.model_selection import cross_val_score\n",
    "from sklearn.metrics import confusion_matrix\n",
    "from sklearn.metrics import plot_confusion_matrix"
   ]
  },
  {
   "cell_type": "code",
   "execution_count": 9,
   "metadata": {},
   "outputs": [],
   "source": [
    "df = pd.read_csv('processed.cleveland.data', header=None)"
   ]
  },
  {
   "cell_type": "code",
   "execution_count": 5,
   "metadata": {},
   "outputs": [
    {
     "data": {
      "text/html": [
       "<div>\n",
       "<style scoped>\n",
       "    .dataframe tbody tr th:only-of-type {\n",
       "        vertical-align: middle;\n",
       "    }\n",
       "\n",
       "    .dataframe tbody tr th {\n",
       "        vertical-align: top;\n",
       "    }\n",
       "\n",
       "    .dataframe thead th {\n",
       "        text-align: right;\n",
       "    }\n",
       "</style>\n",
       "<table border=\"1\" class=\"dataframe\">\n",
       "  <thead>\n",
       "    <tr style=\"text-align: right;\">\n",
       "      <th></th>\n",
       "      <th>0</th>\n",
       "      <th>1</th>\n",
       "      <th>2</th>\n",
       "      <th>3</th>\n",
       "      <th>4</th>\n",
       "      <th>5</th>\n",
       "      <th>6</th>\n",
       "      <th>7</th>\n",
       "      <th>8</th>\n",
       "      <th>9</th>\n",
       "      <th>10</th>\n",
       "      <th>11</th>\n",
       "      <th>12</th>\n",
       "      <th>13</th>\n",
       "    </tr>\n",
       "  </thead>\n",
       "  <tbody>\n",
       "    <tr>\n",
       "      <th>0</th>\n",
       "      <td>63.0</td>\n",
       "      <td>1.0</td>\n",
       "      <td>1.0</td>\n",
       "      <td>145.0</td>\n",
       "      <td>233.0</td>\n",
       "      <td>1.0</td>\n",
       "      <td>2.0</td>\n",
       "      <td>150.0</td>\n",
       "      <td>0.0</td>\n",
       "      <td>2.3</td>\n",
       "      <td>3.0</td>\n",
       "      <td>0.0</td>\n",
       "      <td>6.0</td>\n",
       "      <td>0</td>\n",
       "    </tr>\n",
       "    <tr>\n",
       "      <th>1</th>\n",
       "      <td>67.0</td>\n",
       "      <td>1.0</td>\n",
       "      <td>4.0</td>\n",
       "      <td>160.0</td>\n",
       "      <td>286.0</td>\n",
       "      <td>0.0</td>\n",
       "      <td>2.0</td>\n",
       "      <td>108.0</td>\n",
       "      <td>1.0</td>\n",
       "      <td>1.5</td>\n",
       "      <td>2.0</td>\n",
       "      <td>3.0</td>\n",
       "      <td>3.0</td>\n",
       "      <td>2</td>\n",
       "    </tr>\n",
       "    <tr>\n",
       "      <th>2</th>\n",
       "      <td>67.0</td>\n",
       "      <td>1.0</td>\n",
       "      <td>4.0</td>\n",
       "      <td>120.0</td>\n",
       "      <td>229.0</td>\n",
       "      <td>0.0</td>\n",
       "      <td>2.0</td>\n",
       "      <td>129.0</td>\n",
       "      <td>1.0</td>\n",
       "      <td>2.6</td>\n",
       "      <td>2.0</td>\n",
       "      <td>2.0</td>\n",
       "      <td>7.0</td>\n",
       "      <td>1</td>\n",
       "    </tr>\n",
       "    <tr>\n",
       "      <th>3</th>\n",
       "      <td>37.0</td>\n",
       "      <td>1.0</td>\n",
       "      <td>3.0</td>\n",
       "      <td>130.0</td>\n",
       "      <td>250.0</td>\n",
       "      <td>0.0</td>\n",
       "      <td>0.0</td>\n",
       "      <td>187.0</td>\n",
       "      <td>0.0</td>\n",
       "      <td>3.5</td>\n",
       "      <td>3.0</td>\n",
       "      <td>0.0</td>\n",
       "      <td>3.0</td>\n",
       "      <td>0</td>\n",
       "    </tr>\n",
       "    <tr>\n",
       "      <th>4</th>\n",
       "      <td>41.0</td>\n",
       "      <td>0.0</td>\n",
       "      <td>2.0</td>\n",
       "      <td>130.0</td>\n",
       "      <td>204.0</td>\n",
       "      <td>0.0</td>\n",
       "      <td>2.0</td>\n",
       "      <td>172.0</td>\n",
       "      <td>0.0</td>\n",
       "      <td>1.4</td>\n",
       "      <td>1.0</td>\n",
       "      <td>0.0</td>\n",
       "      <td>3.0</td>\n",
       "      <td>0</td>\n",
       "    </tr>\n",
       "  </tbody>\n",
       "</table>\n",
       "</div>"
      ],
      "text/plain": [
       "     0    1    2      3      4    5    6      7    8    9    10   11   12  13\n",
       "0  63.0  1.0  1.0  145.0  233.0  1.0  2.0  150.0  0.0  2.3  3.0  0.0  6.0   0\n",
       "1  67.0  1.0  4.0  160.0  286.0  0.0  2.0  108.0  1.0  1.5  2.0  3.0  3.0   2\n",
       "2  67.0  1.0  4.0  120.0  229.0  0.0  2.0  129.0  1.0  2.6  2.0  2.0  7.0   1\n",
       "3  37.0  1.0  3.0  130.0  250.0  0.0  0.0  187.0  0.0  3.5  3.0  0.0  3.0   0\n",
       "4  41.0  0.0  2.0  130.0  204.0  0.0  2.0  172.0  0.0  1.4  1.0  0.0  3.0   0"
      ]
     },
     "execution_count": 5,
     "metadata": {},
     "output_type": "execute_result"
    }
   ],
   "source": [
    "df.head()"
   ]
  },
  {
   "cell_type": "code",
   "execution_count": 10,
   "metadata": {},
   "outputs": [],
   "source": [
    "df.columns = [\n",
    "    'age',\n",
    "    'sex',\n",
    "    'cp',\n",
    "    'trestbps',\n",
    "    'chol',\n",
    "    'fbs',\n",
    "    'restecg',\n",
    "    'thalach',\n",
    "    'exang',\n",
    "    'oldpeak',\n",
    "    'slope',\n",
    "    'ca',\n",
    "    'thal',\n",
    "    'hd'\n",
    "]"
   ]
  },
  {
   "cell_type": "code",
   "execution_count": 11,
   "metadata": {},
   "outputs": [
    {
     "data": {
      "text/html": [
       "<div>\n",
       "<style scoped>\n",
       "    .dataframe tbody tr th:only-of-type {\n",
       "        vertical-align: middle;\n",
       "    }\n",
       "\n",
       "    .dataframe tbody tr th {\n",
       "        vertical-align: top;\n",
       "    }\n",
       "\n",
       "    .dataframe thead th {\n",
       "        text-align: right;\n",
       "    }\n",
       "</style>\n",
       "<table border=\"1\" class=\"dataframe\">\n",
       "  <thead>\n",
       "    <tr style=\"text-align: right;\">\n",
       "      <th></th>\n",
       "      <th>age</th>\n",
       "      <th>sex</th>\n",
       "      <th>cp</th>\n",
       "      <th>trestbps</th>\n",
       "      <th>chol</th>\n",
       "      <th>fbs</th>\n",
       "      <th>restecg</th>\n",
       "      <th>thalach</th>\n",
       "      <th>exang</th>\n",
       "      <th>oldpeak</th>\n",
       "      <th>slope</th>\n",
       "      <th>ca</th>\n",
       "      <th>thal</th>\n",
       "      <th>hd</th>\n",
       "    </tr>\n",
       "  </thead>\n",
       "  <tbody>\n",
       "    <tr>\n",
       "      <th>0</th>\n",
       "      <td>63.0</td>\n",
       "      <td>1.0</td>\n",
       "      <td>1.0</td>\n",
       "      <td>145.0</td>\n",
       "      <td>233.0</td>\n",
       "      <td>1.0</td>\n",
       "      <td>2.0</td>\n",
       "      <td>150.0</td>\n",
       "      <td>0.0</td>\n",
       "      <td>2.3</td>\n",
       "      <td>3.0</td>\n",
       "      <td>0.0</td>\n",
       "      <td>6.0</td>\n",
       "      <td>0</td>\n",
       "    </tr>\n",
       "    <tr>\n",
       "      <th>1</th>\n",
       "      <td>67.0</td>\n",
       "      <td>1.0</td>\n",
       "      <td>4.0</td>\n",
       "      <td>160.0</td>\n",
       "      <td>286.0</td>\n",
       "      <td>0.0</td>\n",
       "      <td>2.0</td>\n",
       "      <td>108.0</td>\n",
       "      <td>1.0</td>\n",
       "      <td>1.5</td>\n",
       "      <td>2.0</td>\n",
       "      <td>3.0</td>\n",
       "      <td>3.0</td>\n",
       "      <td>2</td>\n",
       "    </tr>\n",
       "    <tr>\n",
       "      <th>2</th>\n",
       "      <td>67.0</td>\n",
       "      <td>1.0</td>\n",
       "      <td>4.0</td>\n",
       "      <td>120.0</td>\n",
       "      <td>229.0</td>\n",
       "      <td>0.0</td>\n",
       "      <td>2.0</td>\n",
       "      <td>129.0</td>\n",
       "      <td>1.0</td>\n",
       "      <td>2.6</td>\n",
       "      <td>2.0</td>\n",
       "      <td>2.0</td>\n",
       "      <td>7.0</td>\n",
       "      <td>1</td>\n",
       "    </tr>\n",
       "    <tr>\n",
       "      <th>3</th>\n",
       "      <td>37.0</td>\n",
       "      <td>1.0</td>\n",
       "      <td>3.0</td>\n",
       "      <td>130.0</td>\n",
       "      <td>250.0</td>\n",
       "      <td>0.0</td>\n",
       "      <td>0.0</td>\n",
       "      <td>187.0</td>\n",
       "      <td>0.0</td>\n",
       "      <td>3.5</td>\n",
       "      <td>3.0</td>\n",
       "      <td>0.0</td>\n",
       "      <td>3.0</td>\n",
       "      <td>0</td>\n",
       "    </tr>\n",
       "    <tr>\n",
       "      <th>4</th>\n",
       "      <td>41.0</td>\n",
       "      <td>0.0</td>\n",
       "      <td>2.0</td>\n",
       "      <td>130.0</td>\n",
       "      <td>204.0</td>\n",
       "      <td>0.0</td>\n",
       "      <td>2.0</td>\n",
       "      <td>172.0</td>\n",
       "      <td>0.0</td>\n",
       "      <td>1.4</td>\n",
       "      <td>1.0</td>\n",
       "      <td>0.0</td>\n",
       "      <td>3.0</td>\n",
       "      <td>0</td>\n",
       "    </tr>\n",
       "  </tbody>\n",
       "</table>\n",
       "</div>"
      ],
      "text/plain": [
       "    age  sex   cp  trestbps   chol  fbs  restecg  thalach  exang  oldpeak  \\\n",
       "0  63.0  1.0  1.0     145.0  233.0  1.0      2.0    150.0    0.0      2.3   \n",
       "1  67.0  1.0  4.0     160.0  286.0  0.0      2.0    108.0    1.0      1.5   \n",
       "2  67.0  1.0  4.0     120.0  229.0  0.0      2.0    129.0    1.0      2.6   \n",
       "3  37.0  1.0  3.0     130.0  250.0  0.0      0.0    187.0    0.0      3.5   \n",
       "4  41.0  0.0  2.0     130.0  204.0  0.0      2.0    172.0    0.0      1.4   \n",
       "\n",
       "   slope   ca thal  hd  \n",
       "0    3.0  0.0  6.0   0  \n",
       "1    2.0  3.0  3.0   2  \n",
       "2    2.0  2.0  7.0   1  \n",
       "3    3.0  0.0  3.0   0  \n",
       "4    1.0  0.0  3.0   0  "
      ]
     },
     "execution_count": 11,
     "metadata": {},
     "output_type": "execute_result"
    }
   ],
   "source": [
    "df.head()"
   ]
  },
  {
   "cell_type": "code",
   "execution_count": 8,
   "metadata": {},
   "outputs": [
    {
     "data": {
      "text/plain": [
       "array([0, 2, 1, 3, 4], dtype=int64)"
      ]
     },
     "execution_count": 8,
     "metadata": {},
     "output_type": "execute_result"
    }
   ],
   "source": [
    "df.num.unique()"
   ]
  },
  {
   "cell_type": "markdown",
   "metadata": {},
   "source": [
    "### Inspect Data"
   ]
  },
  {
   "cell_type": "code",
   "execution_count": 12,
   "metadata": {},
   "outputs": [
    {
     "data": {
      "text/plain": [
       "age         float64\n",
       "sex         float64\n",
       "cp          float64\n",
       "trestbps    float64\n",
       "chol        float64\n",
       "fbs         float64\n",
       "restecg     float64\n",
       "thalach     float64\n",
       "exang       float64\n",
       "oldpeak     float64\n",
       "slope       float64\n",
       "ca           object\n",
       "thal         object\n",
       "hd            int64\n",
       "dtype: object"
      ]
     },
     "execution_count": 12,
     "metadata": {},
     "output_type": "execute_result"
    }
   ],
   "source": [
    "df.dtypes"
   ]
  },
  {
   "cell_type": "code",
   "execution_count": 13,
   "metadata": {},
   "outputs": [
    {
     "data": {
      "text/plain": [
       "array(['0.0', '3.0', '2.0', '1.0', '?'], dtype=object)"
      ]
     },
     "execution_count": 13,
     "metadata": {},
     "output_type": "execute_result"
    }
   ],
   "source": [
    "df.ca.unique()"
   ]
  },
  {
   "cell_type": "code",
   "execution_count": 14,
   "metadata": {},
   "outputs": [
    {
     "data": {
      "text/plain": [
       "array(['6.0', '3.0', '7.0', '?'], dtype=object)"
      ]
     },
     "execution_count": 14,
     "metadata": {},
     "output_type": "execute_result"
    }
   ],
   "source": [
    "df.thal.unique()"
   ]
  },
  {
   "cell_type": "markdown",
   "metadata": {},
   "source": [
    "### Dealing with missing data"
   ]
  },
  {
   "cell_type": "code",
   "execution_count": 15,
   "metadata": {},
   "outputs": [
    {
     "data": {
      "text/plain": [
       "303"
      ]
     },
     "execution_count": 15,
     "metadata": {},
     "output_type": "execute_result"
    }
   ],
   "source": [
    "len(df)"
   ]
  },
  {
   "cell_type": "code",
   "execution_count": 16,
   "metadata": {},
   "outputs": [
    {
     "data": {
      "text/plain": [
       "6"
      ]
     },
     "execution_count": 16,
     "metadata": {},
     "output_type": "execute_result"
    }
   ],
   "source": [
    "len(df.loc[(df.ca == '?') | (df.thal == '?')])"
   ]
  },
  {
   "cell_type": "code",
   "execution_count": 17,
   "metadata": {},
   "outputs": [
    {
     "data": {
      "text/html": [
       "<div>\n",
       "<style scoped>\n",
       "    .dataframe tbody tr th:only-of-type {\n",
       "        vertical-align: middle;\n",
       "    }\n",
       "\n",
       "    .dataframe tbody tr th {\n",
       "        vertical-align: top;\n",
       "    }\n",
       "\n",
       "    .dataframe thead th {\n",
       "        text-align: right;\n",
       "    }\n",
       "</style>\n",
       "<table border=\"1\" class=\"dataframe\">\n",
       "  <thead>\n",
       "    <tr style=\"text-align: right;\">\n",
       "      <th></th>\n",
       "      <th>age</th>\n",
       "      <th>sex</th>\n",
       "      <th>cp</th>\n",
       "      <th>trestbps</th>\n",
       "      <th>chol</th>\n",
       "      <th>fbs</th>\n",
       "      <th>restecg</th>\n",
       "      <th>thalach</th>\n",
       "      <th>exang</th>\n",
       "      <th>oldpeak</th>\n",
       "      <th>slope</th>\n",
       "      <th>ca</th>\n",
       "      <th>thal</th>\n",
       "      <th>hd</th>\n",
       "    </tr>\n",
       "  </thead>\n",
       "  <tbody>\n",
       "    <tr>\n",
       "      <th>87</th>\n",
       "      <td>53.0</td>\n",
       "      <td>0.0</td>\n",
       "      <td>3.0</td>\n",
       "      <td>128.0</td>\n",
       "      <td>216.0</td>\n",
       "      <td>0.0</td>\n",
       "      <td>2.0</td>\n",
       "      <td>115.0</td>\n",
       "      <td>0.0</td>\n",
       "      <td>0.0</td>\n",
       "      <td>1.0</td>\n",
       "      <td>0.0</td>\n",
       "      <td>?</td>\n",
       "      <td>0</td>\n",
       "    </tr>\n",
       "    <tr>\n",
       "      <th>166</th>\n",
       "      <td>52.0</td>\n",
       "      <td>1.0</td>\n",
       "      <td>3.0</td>\n",
       "      <td>138.0</td>\n",
       "      <td>223.0</td>\n",
       "      <td>0.0</td>\n",
       "      <td>0.0</td>\n",
       "      <td>169.0</td>\n",
       "      <td>0.0</td>\n",
       "      <td>0.0</td>\n",
       "      <td>1.0</td>\n",
       "      <td>?</td>\n",
       "      <td>3.0</td>\n",
       "      <td>0</td>\n",
       "    </tr>\n",
       "    <tr>\n",
       "      <th>192</th>\n",
       "      <td>43.0</td>\n",
       "      <td>1.0</td>\n",
       "      <td>4.0</td>\n",
       "      <td>132.0</td>\n",
       "      <td>247.0</td>\n",
       "      <td>1.0</td>\n",
       "      <td>2.0</td>\n",
       "      <td>143.0</td>\n",
       "      <td>1.0</td>\n",
       "      <td>0.1</td>\n",
       "      <td>2.0</td>\n",
       "      <td>?</td>\n",
       "      <td>7.0</td>\n",
       "      <td>1</td>\n",
       "    </tr>\n",
       "    <tr>\n",
       "      <th>266</th>\n",
       "      <td>52.0</td>\n",
       "      <td>1.0</td>\n",
       "      <td>4.0</td>\n",
       "      <td>128.0</td>\n",
       "      <td>204.0</td>\n",
       "      <td>1.0</td>\n",
       "      <td>0.0</td>\n",
       "      <td>156.0</td>\n",
       "      <td>1.0</td>\n",
       "      <td>1.0</td>\n",
       "      <td>2.0</td>\n",
       "      <td>0.0</td>\n",
       "      <td>?</td>\n",
       "      <td>2</td>\n",
       "    </tr>\n",
       "    <tr>\n",
       "      <th>287</th>\n",
       "      <td>58.0</td>\n",
       "      <td>1.0</td>\n",
       "      <td>2.0</td>\n",
       "      <td>125.0</td>\n",
       "      <td>220.0</td>\n",
       "      <td>0.0</td>\n",
       "      <td>0.0</td>\n",
       "      <td>144.0</td>\n",
       "      <td>0.0</td>\n",
       "      <td>0.4</td>\n",
       "      <td>2.0</td>\n",
       "      <td>?</td>\n",
       "      <td>7.0</td>\n",
       "      <td>0</td>\n",
       "    </tr>\n",
       "    <tr>\n",
       "      <th>302</th>\n",
       "      <td>38.0</td>\n",
       "      <td>1.0</td>\n",
       "      <td>3.0</td>\n",
       "      <td>138.0</td>\n",
       "      <td>175.0</td>\n",
       "      <td>0.0</td>\n",
       "      <td>0.0</td>\n",
       "      <td>173.0</td>\n",
       "      <td>0.0</td>\n",
       "      <td>0.0</td>\n",
       "      <td>1.0</td>\n",
       "      <td>?</td>\n",
       "      <td>3.0</td>\n",
       "      <td>0</td>\n",
       "    </tr>\n",
       "  </tbody>\n",
       "</table>\n",
       "</div>"
      ],
      "text/plain": [
       "      age  sex   cp  trestbps   chol  fbs  restecg  thalach  exang  oldpeak  \\\n",
       "87   53.0  0.0  3.0     128.0  216.0  0.0      2.0    115.0    0.0      0.0   \n",
       "166  52.0  1.0  3.0     138.0  223.0  0.0      0.0    169.0    0.0      0.0   \n",
       "192  43.0  1.0  4.0     132.0  247.0  1.0      2.0    143.0    1.0      0.1   \n",
       "266  52.0  1.0  4.0     128.0  204.0  1.0      0.0    156.0    1.0      1.0   \n",
       "287  58.0  1.0  2.0     125.0  220.0  0.0      0.0    144.0    0.0      0.4   \n",
       "302  38.0  1.0  3.0     138.0  175.0  0.0      0.0    173.0    0.0      0.0   \n",
       "\n",
       "     slope   ca thal  hd  \n",
       "87     1.0  0.0    ?   0  \n",
       "166    1.0    ?  3.0   0  \n",
       "192    2.0    ?  7.0   1  \n",
       "266    2.0  0.0    ?   2  \n",
       "287    2.0    ?  7.0   0  \n",
       "302    1.0    ?  3.0   0  "
      ]
     },
     "execution_count": 17,
     "metadata": {},
     "output_type": "execute_result"
    }
   ],
   "source": [
    "df.loc[(df.ca == '?') | (df.thal == '?')]"
   ]
  },
  {
   "cell_type": "code",
   "execution_count": 18,
   "metadata": {},
   "outputs": [],
   "source": [
    "df = df.loc[(df.ca != '?') & (df.thal != '?')]"
   ]
  },
  {
   "cell_type": "code",
   "execution_count": 19,
   "metadata": {},
   "outputs": [
    {
     "data": {
      "text/plain": [
       "array(['0.0', '3.0', '2.0', '1.0'], dtype=object)"
      ]
     },
     "execution_count": 19,
     "metadata": {},
     "output_type": "execute_result"
    }
   ],
   "source": [
    "df.ca.unique()"
   ]
  },
  {
   "cell_type": "code",
   "execution_count": 20,
   "metadata": {},
   "outputs": [
    {
     "data": {
      "text/plain": [
       "array(['6.0', '3.0', '7.0'], dtype=object)"
      ]
     },
     "execution_count": 20,
     "metadata": {},
     "output_type": "execute_result"
    }
   ],
   "source": [
    "df.thal.unique()"
   ]
  },
  {
   "cell_type": "markdown",
   "metadata": {},
   "source": [
    "### Splitting data into independent and dependent variables"
   ]
  },
  {
   "cell_type": "code",
   "execution_count": 21,
   "metadata": {},
   "outputs": [
    {
     "data": {
      "text/html": [
       "<div>\n",
       "<style scoped>\n",
       "    .dataframe tbody tr th:only-of-type {\n",
       "        vertical-align: middle;\n",
       "    }\n",
       "\n",
       "    .dataframe tbody tr th {\n",
       "        vertical-align: top;\n",
       "    }\n",
       "\n",
       "    .dataframe thead th {\n",
       "        text-align: right;\n",
       "    }\n",
       "</style>\n",
       "<table border=\"1\" class=\"dataframe\">\n",
       "  <thead>\n",
       "    <tr style=\"text-align: right;\">\n",
       "      <th></th>\n",
       "      <th>age</th>\n",
       "      <th>sex</th>\n",
       "      <th>cp</th>\n",
       "      <th>trestbps</th>\n",
       "      <th>chol</th>\n",
       "      <th>fbs</th>\n",
       "      <th>restecg</th>\n",
       "      <th>thalach</th>\n",
       "      <th>exang</th>\n",
       "      <th>oldpeak</th>\n",
       "      <th>slope</th>\n",
       "      <th>ca</th>\n",
       "      <th>thal</th>\n",
       "    </tr>\n",
       "  </thead>\n",
       "  <tbody>\n",
       "    <tr>\n",
       "      <th>0</th>\n",
       "      <td>63.0</td>\n",
       "      <td>1.0</td>\n",
       "      <td>1.0</td>\n",
       "      <td>145.0</td>\n",
       "      <td>233.0</td>\n",
       "      <td>1.0</td>\n",
       "      <td>2.0</td>\n",
       "      <td>150.0</td>\n",
       "      <td>0.0</td>\n",
       "      <td>2.3</td>\n",
       "      <td>3.0</td>\n",
       "      <td>0.0</td>\n",
       "      <td>6.0</td>\n",
       "    </tr>\n",
       "    <tr>\n",
       "      <th>1</th>\n",
       "      <td>67.0</td>\n",
       "      <td>1.0</td>\n",
       "      <td>4.0</td>\n",
       "      <td>160.0</td>\n",
       "      <td>286.0</td>\n",
       "      <td>0.0</td>\n",
       "      <td>2.0</td>\n",
       "      <td>108.0</td>\n",
       "      <td>1.0</td>\n",
       "      <td>1.5</td>\n",
       "      <td>2.0</td>\n",
       "      <td>3.0</td>\n",
       "      <td>3.0</td>\n",
       "    </tr>\n",
       "    <tr>\n",
       "      <th>2</th>\n",
       "      <td>67.0</td>\n",
       "      <td>1.0</td>\n",
       "      <td>4.0</td>\n",
       "      <td>120.0</td>\n",
       "      <td>229.0</td>\n",
       "      <td>0.0</td>\n",
       "      <td>2.0</td>\n",
       "      <td>129.0</td>\n",
       "      <td>1.0</td>\n",
       "      <td>2.6</td>\n",
       "      <td>2.0</td>\n",
       "      <td>2.0</td>\n",
       "      <td>7.0</td>\n",
       "    </tr>\n",
       "    <tr>\n",
       "      <th>3</th>\n",
       "      <td>37.0</td>\n",
       "      <td>1.0</td>\n",
       "      <td>3.0</td>\n",
       "      <td>130.0</td>\n",
       "      <td>250.0</td>\n",
       "      <td>0.0</td>\n",
       "      <td>0.0</td>\n",
       "      <td>187.0</td>\n",
       "      <td>0.0</td>\n",
       "      <td>3.5</td>\n",
       "      <td>3.0</td>\n",
       "      <td>0.0</td>\n",
       "      <td>3.0</td>\n",
       "    </tr>\n",
       "    <tr>\n",
       "      <th>4</th>\n",
       "      <td>41.0</td>\n",
       "      <td>0.0</td>\n",
       "      <td>2.0</td>\n",
       "      <td>130.0</td>\n",
       "      <td>204.0</td>\n",
       "      <td>0.0</td>\n",
       "      <td>2.0</td>\n",
       "      <td>172.0</td>\n",
       "      <td>0.0</td>\n",
       "      <td>1.4</td>\n",
       "      <td>1.0</td>\n",
       "      <td>0.0</td>\n",
       "      <td>3.0</td>\n",
       "    </tr>\n",
       "  </tbody>\n",
       "</table>\n",
       "</div>"
      ],
      "text/plain": [
       "    age  sex   cp  trestbps   chol  fbs  restecg  thalach  exang  oldpeak  \\\n",
       "0  63.0  1.0  1.0     145.0  233.0  1.0      2.0    150.0    0.0      2.3   \n",
       "1  67.0  1.0  4.0     160.0  286.0  0.0      2.0    108.0    1.0      1.5   \n",
       "2  67.0  1.0  4.0     120.0  229.0  0.0      2.0    129.0    1.0      2.6   \n",
       "3  37.0  1.0  3.0     130.0  250.0  0.0      0.0    187.0    0.0      3.5   \n",
       "4  41.0  0.0  2.0     130.0  204.0  0.0      2.0    172.0    0.0      1.4   \n",
       "\n",
       "   slope   ca thal  \n",
       "0    3.0  0.0  6.0  \n",
       "1    2.0  3.0  3.0  \n",
       "2    2.0  2.0  7.0  \n",
       "3    3.0  0.0  3.0  \n",
       "4    1.0  0.0  3.0  "
      ]
     },
     "execution_count": 21,
     "metadata": {},
     "output_type": "execute_result"
    }
   ],
   "source": [
    "X = df.drop('hd', axis=1).copy()\n",
    "X.head()"
   ]
  },
  {
   "cell_type": "code",
   "execution_count": 22,
   "metadata": {},
   "outputs": [
    {
     "data": {
      "text/plain": [
       "0    0\n",
       "1    2\n",
       "2    1\n",
       "3    0\n",
       "4    0\n",
       "Name: hd, dtype: int64"
      ]
     },
     "execution_count": 22,
     "metadata": {},
     "output_type": "execute_result"
    }
   ],
   "source": [
    "y = df.hd.copy()\n",
    "y.head()"
   ]
  },
  {
   "cell_type": "markdown",
   "metadata": {},
   "source": [
    "### Format independent variables with One-Hot Encoding"
   ]
  },
  {
   "cell_type": "markdown",
   "metadata": {},
   "source": [
    "age - float<br>\n",
    "sex - 0, 1<br>\n",
    "cp - 1, 2, 3, 4<br>\n",
    "trestbps - float<br>\n",
    "chol - float<br>\n",
    "fbs - 0, 1<br>\n",
    "restecg - 0, 1, 2<br>\n",
    "thalach - float<br>\n",
    "exang - 0, 1<br>\n",
    "oldpeak - float<br>\n",
    "slope - 1, 2, 3<br>\n",
    "ca - float<br>\n",
    "thal - 3, 6, 7<br>"
   ]
  },
  {
   "cell_type": "code",
   "execution_count": 23,
   "metadata": {},
   "outputs": [
    {
     "data": {
      "text/plain": [
       "array([1., 0.])"
      ]
     },
     "execution_count": 23,
     "metadata": {},
     "output_type": "execute_result"
    }
   ],
   "source": [
    "X.sex.unique()"
   ]
  },
  {
   "cell_type": "code",
   "execution_count": 24,
   "metadata": {},
   "outputs": [
    {
     "data": {
      "text/plain": [
       "array([1., 4., 3., 2.])"
      ]
     },
     "execution_count": 24,
     "metadata": {},
     "output_type": "execute_result"
    }
   ],
   "source": [
    "X.cp.unique()"
   ]
  },
  {
   "cell_type": "code",
   "execution_count": 25,
   "metadata": {},
   "outputs": [
    {
     "data": {
      "text/plain": [
       "array([1., 0.])"
      ]
     },
     "execution_count": 25,
     "metadata": {},
     "output_type": "execute_result"
    }
   ],
   "source": [
    "X.fbs.unique()"
   ]
  },
  {
   "cell_type": "code",
   "execution_count": 26,
   "metadata": {},
   "outputs": [
    {
     "data": {
      "text/plain": [
       "array([2., 0., 1.])"
      ]
     },
     "execution_count": 26,
     "metadata": {},
     "output_type": "execute_result"
    }
   ],
   "source": [
    "X.restecg.unique()"
   ]
  },
  {
   "cell_type": "code",
   "execution_count": 27,
   "metadata": {},
   "outputs": [
    {
     "data": {
      "text/plain": [
       "array([0., 1.])"
      ]
     },
     "execution_count": 27,
     "metadata": {},
     "output_type": "execute_result"
    }
   ],
   "source": [
    "X.exang.unique()"
   ]
  },
  {
   "cell_type": "code",
   "execution_count": 28,
   "metadata": {},
   "outputs": [
    {
     "data": {
      "text/plain": [
       "array([3., 2., 1.])"
      ]
     },
     "execution_count": 28,
     "metadata": {},
     "output_type": "execute_result"
    }
   ],
   "source": [
    "X.slope.unique()"
   ]
  },
  {
   "cell_type": "code",
   "execution_count": 29,
   "metadata": {},
   "outputs": [
    {
     "data": {
      "text/plain": [
       "array(['6.0', '3.0', '7.0'], dtype=object)"
      ]
     },
     "execution_count": 29,
     "metadata": {},
     "output_type": "execute_result"
    }
   ],
   "source": [
    "X.thal.unique()"
   ]
  },
  {
   "cell_type": "markdown",
   "metadata": {},
   "source": [
    "We can either use ColumnTransformer() from sklearn or get_dummies() from pandas to do One-Hot Encoding."
   ]
  },
  {
   "cell_type": "code",
   "execution_count": 30,
   "metadata": {},
   "outputs": [
    {
     "data": {
      "text/html": [
       "<div>\n",
       "<style scoped>\n",
       "    .dataframe tbody tr th:only-of-type {\n",
       "        vertical-align: middle;\n",
       "    }\n",
       "\n",
       "    .dataframe tbody tr th {\n",
       "        vertical-align: top;\n",
       "    }\n",
       "\n",
       "    .dataframe thead th {\n",
       "        text-align: right;\n",
       "    }\n",
       "</style>\n",
       "<table border=\"1\" class=\"dataframe\">\n",
       "  <thead>\n",
       "    <tr style=\"text-align: right;\">\n",
       "      <th></th>\n",
       "      <th>age</th>\n",
       "      <th>sex</th>\n",
       "      <th>trestbps</th>\n",
       "      <th>chol</th>\n",
       "      <th>fbs</th>\n",
       "      <th>restecg</th>\n",
       "      <th>thalach</th>\n",
       "      <th>exang</th>\n",
       "      <th>oldpeak</th>\n",
       "      <th>slope</th>\n",
       "      <th>ca</th>\n",
       "      <th>thal</th>\n",
       "      <th>cp_1.0</th>\n",
       "      <th>cp_2.0</th>\n",
       "      <th>cp_3.0</th>\n",
       "      <th>cp_4.0</th>\n",
       "    </tr>\n",
       "  </thead>\n",
       "  <tbody>\n",
       "    <tr>\n",
       "      <th>0</th>\n",
       "      <td>63.0</td>\n",
       "      <td>1.0</td>\n",
       "      <td>145.0</td>\n",
       "      <td>233.0</td>\n",
       "      <td>1.0</td>\n",
       "      <td>2.0</td>\n",
       "      <td>150.0</td>\n",
       "      <td>0.0</td>\n",
       "      <td>2.3</td>\n",
       "      <td>3.0</td>\n",
       "      <td>0.0</td>\n",
       "      <td>6.0</td>\n",
       "      <td>1</td>\n",
       "      <td>0</td>\n",
       "      <td>0</td>\n",
       "      <td>0</td>\n",
       "    </tr>\n",
       "    <tr>\n",
       "      <th>1</th>\n",
       "      <td>67.0</td>\n",
       "      <td>1.0</td>\n",
       "      <td>160.0</td>\n",
       "      <td>286.0</td>\n",
       "      <td>0.0</td>\n",
       "      <td>2.0</td>\n",
       "      <td>108.0</td>\n",
       "      <td>1.0</td>\n",
       "      <td>1.5</td>\n",
       "      <td>2.0</td>\n",
       "      <td>3.0</td>\n",
       "      <td>3.0</td>\n",
       "      <td>0</td>\n",
       "      <td>0</td>\n",
       "      <td>0</td>\n",
       "      <td>1</td>\n",
       "    </tr>\n",
       "    <tr>\n",
       "      <th>2</th>\n",
       "      <td>67.0</td>\n",
       "      <td>1.0</td>\n",
       "      <td>120.0</td>\n",
       "      <td>229.0</td>\n",
       "      <td>0.0</td>\n",
       "      <td>2.0</td>\n",
       "      <td>129.0</td>\n",
       "      <td>1.0</td>\n",
       "      <td>2.6</td>\n",
       "      <td>2.0</td>\n",
       "      <td>2.0</td>\n",
       "      <td>7.0</td>\n",
       "      <td>0</td>\n",
       "      <td>0</td>\n",
       "      <td>0</td>\n",
       "      <td>1</td>\n",
       "    </tr>\n",
       "    <tr>\n",
       "      <th>3</th>\n",
       "      <td>37.0</td>\n",
       "      <td>1.0</td>\n",
       "      <td>130.0</td>\n",
       "      <td>250.0</td>\n",
       "      <td>0.0</td>\n",
       "      <td>0.0</td>\n",
       "      <td>187.0</td>\n",
       "      <td>0.0</td>\n",
       "      <td>3.5</td>\n",
       "      <td>3.0</td>\n",
       "      <td>0.0</td>\n",
       "      <td>3.0</td>\n",
       "      <td>0</td>\n",
       "      <td>0</td>\n",
       "      <td>1</td>\n",
       "      <td>0</td>\n",
       "    </tr>\n",
       "    <tr>\n",
       "      <th>4</th>\n",
       "      <td>41.0</td>\n",
       "      <td>0.0</td>\n",
       "      <td>130.0</td>\n",
       "      <td>204.0</td>\n",
       "      <td>0.0</td>\n",
       "      <td>2.0</td>\n",
       "      <td>172.0</td>\n",
       "      <td>0.0</td>\n",
       "      <td>1.4</td>\n",
       "      <td>1.0</td>\n",
       "      <td>0.0</td>\n",
       "      <td>3.0</td>\n",
       "      <td>0</td>\n",
       "      <td>1</td>\n",
       "      <td>0</td>\n",
       "      <td>0</td>\n",
       "    </tr>\n",
       "  </tbody>\n",
       "</table>\n",
       "</div>"
      ],
      "text/plain": [
       "    age  sex  trestbps   chol  fbs  restecg  thalach  exang  oldpeak  slope  \\\n",
       "0  63.0  1.0     145.0  233.0  1.0      2.0    150.0    0.0      2.3    3.0   \n",
       "1  67.0  1.0     160.0  286.0  0.0      2.0    108.0    1.0      1.5    2.0   \n",
       "2  67.0  1.0     120.0  229.0  0.0      2.0    129.0    1.0      2.6    2.0   \n",
       "3  37.0  1.0     130.0  250.0  0.0      0.0    187.0    0.0      3.5    3.0   \n",
       "4  41.0  0.0     130.0  204.0  0.0      2.0    172.0    0.0      1.4    1.0   \n",
       "\n",
       "    ca thal  cp_1.0  cp_2.0  cp_3.0  cp_4.0  \n",
       "0  0.0  6.0       1       0       0       0  \n",
       "1  3.0  3.0       0       0       0       1  \n",
       "2  2.0  7.0       0       0       0       1  \n",
       "3  0.0  3.0       0       0       1       0  \n",
       "4  0.0  3.0       0       1       0       0  "
      ]
     },
     "execution_count": 30,
     "metadata": {},
     "output_type": "execute_result"
    }
   ],
   "source": [
    "pd.get_dummies(X, columns=['cp']).head()"
   ]
  },
  {
   "cell_type": "code",
   "execution_count": 31,
   "metadata": {},
   "outputs": [],
   "source": [
    "X_encoded = pd.get_dummies(X, columns=['cp', 'restecg', 'slope', 'thal'])"
   ]
  },
  {
   "cell_type": "code",
   "execution_count": 32,
   "metadata": {},
   "outputs": [
    {
     "data": {
      "text/html": [
       "<div>\n",
       "<style scoped>\n",
       "    .dataframe tbody tr th:only-of-type {\n",
       "        vertical-align: middle;\n",
       "    }\n",
       "\n",
       "    .dataframe tbody tr th {\n",
       "        vertical-align: top;\n",
       "    }\n",
       "\n",
       "    .dataframe thead th {\n",
       "        text-align: right;\n",
       "    }\n",
       "</style>\n",
       "<table border=\"1\" class=\"dataframe\">\n",
       "  <thead>\n",
       "    <tr style=\"text-align: right;\">\n",
       "      <th></th>\n",
       "      <th>age</th>\n",
       "      <th>sex</th>\n",
       "      <th>trestbps</th>\n",
       "      <th>chol</th>\n",
       "      <th>fbs</th>\n",
       "      <th>thalach</th>\n",
       "      <th>exang</th>\n",
       "      <th>oldpeak</th>\n",
       "      <th>ca</th>\n",
       "      <th>cp_1.0</th>\n",
       "      <th>...</th>\n",
       "      <th>cp_4.0</th>\n",
       "      <th>restecg_0.0</th>\n",
       "      <th>restecg_1.0</th>\n",
       "      <th>restecg_2.0</th>\n",
       "      <th>slope_1.0</th>\n",
       "      <th>slope_2.0</th>\n",
       "      <th>slope_3.0</th>\n",
       "      <th>thal_3.0</th>\n",
       "      <th>thal_6.0</th>\n",
       "      <th>thal_7.0</th>\n",
       "    </tr>\n",
       "  </thead>\n",
       "  <tbody>\n",
       "    <tr>\n",
       "      <th>0</th>\n",
       "      <td>63.0</td>\n",
       "      <td>1.0</td>\n",
       "      <td>145.0</td>\n",
       "      <td>233.0</td>\n",
       "      <td>1.0</td>\n",
       "      <td>150.0</td>\n",
       "      <td>0.0</td>\n",
       "      <td>2.3</td>\n",
       "      <td>0.0</td>\n",
       "      <td>1</td>\n",
       "      <td>...</td>\n",
       "      <td>0</td>\n",
       "      <td>0</td>\n",
       "      <td>0</td>\n",
       "      <td>1</td>\n",
       "      <td>0</td>\n",
       "      <td>0</td>\n",
       "      <td>1</td>\n",
       "      <td>0</td>\n",
       "      <td>1</td>\n",
       "      <td>0</td>\n",
       "    </tr>\n",
       "    <tr>\n",
       "      <th>1</th>\n",
       "      <td>67.0</td>\n",
       "      <td>1.0</td>\n",
       "      <td>160.0</td>\n",
       "      <td>286.0</td>\n",
       "      <td>0.0</td>\n",
       "      <td>108.0</td>\n",
       "      <td>1.0</td>\n",
       "      <td>1.5</td>\n",
       "      <td>3.0</td>\n",
       "      <td>0</td>\n",
       "      <td>...</td>\n",
       "      <td>1</td>\n",
       "      <td>0</td>\n",
       "      <td>0</td>\n",
       "      <td>1</td>\n",
       "      <td>0</td>\n",
       "      <td>1</td>\n",
       "      <td>0</td>\n",
       "      <td>1</td>\n",
       "      <td>0</td>\n",
       "      <td>0</td>\n",
       "    </tr>\n",
       "    <tr>\n",
       "      <th>2</th>\n",
       "      <td>67.0</td>\n",
       "      <td>1.0</td>\n",
       "      <td>120.0</td>\n",
       "      <td>229.0</td>\n",
       "      <td>0.0</td>\n",
       "      <td>129.0</td>\n",
       "      <td>1.0</td>\n",
       "      <td>2.6</td>\n",
       "      <td>2.0</td>\n",
       "      <td>0</td>\n",
       "      <td>...</td>\n",
       "      <td>1</td>\n",
       "      <td>0</td>\n",
       "      <td>0</td>\n",
       "      <td>1</td>\n",
       "      <td>0</td>\n",
       "      <td>1</td>\n",
       "      <td>0</td>\n",
       "      <td>0</td>\n",
       "      <td>0</td>\n",
       "      <td>1</td>\n",
       "    </tr>\n",
       "    <tr>\n",
       "      <th>3</th>\n",
       "      <td>37.0</td>\n",
       "      <td>1.0</td>\n",
       "      <td>130.0</td>\n",
       "      <td>250.0</td>\n",
       "      <td>0.0</td>\n",
       "      <td>187.0</td>\n",
       "      <td>0.0</td>\n",
       "      <td>3.5</td>\n",
       "      <td>0.0</td>\n",
       "      <td>0</td>\n",
       "      <td>...</td>\n",
       "      <td>0</td>\n",
       "      <td>1</td>\n",
       "      <td>0</td>\n",
       "      <td>0</td>\n",
       "      <td>0</td>\n",
       "      <td>0</td>\n",
       "      <td>1</td>\n",
       "      <td>1</td>\n",
       "      <td>0</td>\n",
       "      <td>0</td>\n",
       "    </tr>\n",
       "    <tr>\n",
       "      <th>4</th>\n",
       "      <td>41.0</td>\n",
       "      <td>0.0</td>\n",
       "      <td>130.0</td>\n",
       "      <td>204.0</td>\n",
       "      <td>0.0</td>\n",
       "      <td>172.0</td>\n",
       "      <td>0.0</td>\n",
       "      <td>1.4</td>\n",
       "      <td>0.0</td>\n",
       "      <td>0</td>\n",
       "      <td>...</td>\n",
       "      <td>0</td>\n",
       "      <td>0</td>\n",
       "      <td>0</td>\n",
       "      <td>1</td>\n",
       "      <td>1</td>\n",
       "      <td>0</td>\n",
       "      <td>0</td>\n",
       "      <td>1</td>\n",
       "      <td>0</td>\n",
       "      <td>0</td>\n",
       "    </tr>\n",
       "  </tbody>\n",
       "</table>\n",
       "<p>5 rows × 22 columns</p>\n",
       "</div>"
      ],
      "text/plain": [
       "    age  sex  trestbps   chol  fbs  thalach  exang  oldpeak   ca  cp_1.0  ...  \\\n",
       "0  63.0  1.0     145.0  233.0  1.0    150.0    0.0      2.3  0.0       1  ...   \n",
       "1  67.0  1.0     160.0  286.0  0.0    108.0    1.0      1.5  3.0       0  ...   \n",
       "2  67.0  1.0     120.0  229.0  0.0    129.0    1.0      2.6  2.0       0  ...   \n",
       "3  37.0  1.0     130.0  250.0  0.0    187.0    0.0      3.5  0.0       0  ...   \n",
       "4  41.0  0.0     130.0  204.0  0.0    172.0    0.0      1.4  0.0       0  ...   \n",
       "\n",
       "   cp_4.0  restecg_0.0  restecg_1.0  restecg_2.0  slope_1.0  slope_2.0  \\\n",
       "0       0            0            0            1          0          0   \n",
       "1       1            0            0            1          0          1   \n",
       "2       1            0            0            1          0          1   \n",
       "3       0            1            0            0          0          0   \n",
       "4       0            0            0            1          1          0   \n",
       "\n",
       "   slope_3.0  thal_3.0  thal_6.0  thal_7.0  \n",
       "0          1         0         1         0  \n",
       "1          0         1         0         0  \n",
       "2          0         0         0         1  \n",
       "3          1         1         0         0  \n",
       "4          0         1         0         0  \n",
       "\n",
       "[5 rows x 22 columns]"
      ]
     },
     "execution_count": 32,
     "metadata": {},
     "output_type": "execute_result"
    }
   ],
   "source": [
    "X_encoded.head()"
   ]
  },
  {
   "cell_type": "markdown",
   "metadata": {},
   "source": [
    "### Make dependent variable binary"
   ]
  },
  {
   "cell_type": "code",
   "execution_count": 33,
   "metadata": {},
   "outputs": [
    {
     "name": "stdout",
     "output_type": "stream",
     "text": [
      "[0 2 1 3 4]\n"
     ]
    },
    {
     "data": {
      "text/plain": [
       "array([0, 1], dtype=int64)"
      ]
     },
     "execution_count": 33,
     "metadata": {},
     "output_type": "execute_result"
    }
   ],
   "source": [
    "print(y.unique())\n",
    "y_not_zero_index = y > 0\n",
    "y[y_not_zero_index] = 1\n",
    "y.unique()"
   ]
  },
  {
   "cell_type": "markdown",
   "metadata": {},
   "source": [
    "### Preliminary Classification Tree"
   ]
  },
  {
   "cell_type": "code",
   "execution_count": 34,
   "metadata": {},
   "outputs": [],
   "source": [
    "X_train, X_test, y_train, y_test = train_test_split(X_encoded, y, random_state=42)\n",
    "clf_dt = DecisionTreeClassifier(random_state=42)\n",
    "clf_dt = clf_dt .fit(X_train, y_train)"
   ]
  },
  {
   "cell_type": "code",
   "execution_count": 35,
   "metadata": {},
   "outputs": [
    {
     "data": {
      "text/plain": [
       "[Text(479.8318965517241, 390.7125, 'ca <= 0.5\\ngini = 0.498\\nsamples = 222\\nvalue = [118, 104]\\nclass = No HD'),\n",
       " Text(277.79741379310343, 356.73749999999995, 'thal_7.0 <= 0.5\\ngini = 0.382\\nsamples = 132\\nvalue = [98, 34]\\nclass = No HD'),\n",
       " Text(169.5646551724138, 322.7625, 'oldpeak <= 2.7\\ngini = 0.24\\nsamples = 93\\nvalue = [80, 13]\\nclass = No HD'),\n",
       " Text(122.66379310344828, 288.78749999999997, 'age <= 58.5\\ngini = 0.185\\nsamples = 87\\nvalue = [78, 9]\\nclass = No HD'),\n",
       " Text(72.15517241379311, 254.81249999999997, 'chol <= 311.5\\ngini = 0.061\\nsamples = 63\\nvalue = [61, 2]\\nclass = No HD'),\n",
       " Text(43.293103448275865, 220.83749999999998, 'trestbps <= 109.0\\ngini = 0.033\\nsamples = 60\\nvalue = [59, 1]\\nclass = No HD'),\n",
       " Text(28.862068965517242, 186.86249999999998, 'sex <= 0.5\\ngini = 0.278\\nsamples = 6\\nvalue = [5, 1]\\nclass = No HD'),\n",
       " Text(14.431034482758621, 152.8875, 'gini = 0.0\\nsamples = 4\\nvalue = [4, 0]\\nclass = No HD'),\n",
       " Text(43.293103448275865, 152.8875, 'exang <= 0.5\\ngini = 0.5\\nsamples = 2\\nvalue = [1, 1]\\nclass = No HD'),\n",
       " Text(28.862068965517242, 118.91249999999997, 'gini = 0.0\\nsamples = 1\\nvalue = [0, 1]\\nclass = Risk of HD'),\n",
       " Text(57.724137931034484, 118.91249999999997, 'gini = 0.0\\nsamples = 1\\nvalue = [1, 0]\\nclass = No HD'),\n",
       " Text(57.724137931034484, 186.86249999999998, 'gini = 0.0\\nsamples = 54\\nvalue = [54, 0]\\nclass = No HD'),\n",
       " Text(101.01724137931035, 220.83749999999998, 'thal_6.0 <= 0.5\\ngini = 0.444\\nsamples = 3\\nvalue = [2, 1]\\nclass = No HD'),\n",
       " Text(86.58620689655173, 186.86249999999998, 'gini = 0.0\\nsamples = 2\\nvalue = [2, 0]\\nclass = No HD'),\n",
       " Text(115.44827586206897, 186.86249999999998, 'gini = 0.0\\nsamples = 1\\nvalue = [0, 1]\\nclass = Risk of HD'),\n",
       " Text(173.17241379310346, 254.81249999999997, 'oldpeak <= 1.45\\ngini = 0.413\\nsamples = 24\\nvalue = [17, 7]\\nclass = No HD'),\n",
       " Text(158.74137931034483, 220.83749999999998, 'fbs <= 0.5\\ngini = 0.484\\nsamples = 17\\nvalue = [10, 7]\\nclass = No HD'),\n",
       " Text(144.31034482758622, 186.86249999999998, 'age <= 64.5\\ngini = 0.498\\nsamples = 15\\nvalue = [8, 7]\\nclass = No HD'),\n",
       " Text(115.44827586206897, 152.8875, 'thalach <= 148.5\\ngini = 0.48\\nsamples = 10\\nvalue = [4, 6]\\nclass = Risk of HD'),\n",
       " Text(101.01724137931035, 118.91249999999997, 'gini = 0.0\\nsamples = 3\\nvalue = [0, 3]\\nclass = Risk of HD'),\n",
       " Text(129.8793103448276, 118.91249999999997, 'oldpeak <= 1.3\\ngini = 0.49\\nsamples = 7\\nvalue = [4, 3]\\nclass = No HD'),\n",
       " Text(115.44827586206897, 84.9375, 'chol <= 327.5\\ngini = 0.444\\nsamples = 6\\nvalue = [4, 2]\\nclass = No HD'),\n",
       " Text(101.01724137931035, 50.96249999999998, 'gini = 0.0\\nsamples = 3\\nvalue = [3, 0]\\nclass = No HD'),\n",
       " Text(129.8793103448276, 50.96249999999998, 'oldpeak <= 0.6\\ngini = 0.444\\nsamples = 3\\nvalue = [1, 2]\\nclass = Risk of HD'),\n",
       " Text(115.44827586206897, 16.987499999999955, 'gini = 0.0\\nsamples = 2\\nvalue = [0, 2]\\nclass = Risk of HD'),\n",
       " Text(144.31034482758622, 16.987499999999955, 'gini = 0.0\\nsamples = 1\\nvalue = [1, 0]\\nclass = No HD'),\n",
       " Text(144.31034482758622, 84.9375, 'gini = 0.0\\nsamples = 1\\nvalue = [0, 1]\\nclass = Risk of HD'),\n",
       " Text(173.17241379310346, 152.8875, 'thalach <= 93.5\\ngini = 0.32\\nsamples = 5\\nvalue = [4, 1]\\nclass = No HD'),\n",
       " Text(158.74137931034483, 118.91249999999997, 'gini = 0.0\\nsamples = 1\\nvalue = [0, 1]\\nclass = Risk of HD'),\n",
       " Text(187.60344827586206, 118.91249999999997, 'gini = 0.0\\nsamples = 4\\nvalue = [4, 0]\\nclass = No HD'),\n",
       " Text(173.17241379310346, 186.86249999999998, 'gini = 0.0\\nsamples = 2\\nvalue = [2, 0]\\nclass = No HD'),\n",
       " Text(187.60344827586206, 220.83749999999998, 'gini = 0.0\\nsamples = 7\\nvalue = [7, 0]\\nclass = No HD'),\n",
       " Text(216.4655172413793, 288.78749999999997, 'thalach <= 147.5\\ngini = 0.444\\nsamples = 6\\nvalue = [2, 4]\\nclass = Risk of HD'),\n",
       " Text(202.0344827586207, 254.81249999999997, 'gini = 0.0\\nsamples = 3\\nvalue = [0, 3]\\nclass = Risk of HD'),\n",
       " Text(230.89655172413794, 254.81249999999997, 'age <= 52.5\\ngini = 0.444\\nsamples = 3\\nvalue = [2, 1]\\nclass = No HD'),\n",
       " Text(216.4655172413793, 220.83749999999998, 'gini = 0.0\\nsamples = 2\\nvalue = [2, 0]\\nclass = No HD'),\n",
       " Text(245.32758620689657, 220.83749999999998, 'gini = 0.0\\nsamples = 1\\nvalue = [0, 1]\\nclass = Risk of HD'),\n",
       " Text(386.03017241379314, 322.7625, 'cp_4.0 <= 0.5\\ngini = 0.497\\nsamples = 39\\nvalue = [18, 21]\\nclass = Risk of HD'),\n",
       " Text(324.69827586206895, 288.78749999999997, 'thalach <= 152.0\\ngini = 0.42\\nsamples = 20\\nvalue = [14, 6]\\nclass = No HD'),\n",
       " Text(288.62068965517244, 254.81249999999997, 'oldpeak <= 0.8\\ngini = 0.444\\nsamples = 6\\nvalue = [2, 4]\\nclass = Risk of HD'),\n",
       " Text(274.1896551724138, 220.83749999999998, 'cp_3.0 <= 0.5\\ngini = 0.444\\nsamples = 3\\nvalue = [2, 1]\\nclass = No HD'),\n",
       " Text(259.7586206896552, 186.86249999999998, 'gini = 0.0\\nsamples = 1\\nvalue = [0, 1]\\nclass = Risk of HD'),\n",
       " Text(288.62068965517244, 186.86249999999998, 'gini = 0.0\\nsamples = 2\\nvalue = [2, 0]\\nclass = No HD'),\n",
       " Text(303.05172413793105, 220.83749999999998, 'gini = 0.0\\nsamples = 3\\nvalue = [0, 3]\\nclass = Risk of HD'),\n",
       " Text(360.7758620689655, 254.81249999999997, 'slope_3.0 <= 0.5\\ngini = 0.245\\nsamples = 14\\nvalue = [12, 2]\\nclass = No HD'),\n",
       " Text(331.91379310344826, 220.83749999999998, 'trestbps <= 161.0\\ngini = 0.153\\nsamples = 12\\nvalue = [11, 1]\\nclass = No HD'),\n",
       " Text(317.48275862068965, 186.86249999999998, 'gini = 0.0\\nsamples = 9\\nvalue = [9, 0]\\nclass = No HD'),\n",
       " Text(346.3448275862069, 186.86249999999998, 'oldpeak <= 0.35\\ngini = 0.444\\nsamples = 3\\nvalue = [2, 1]\\nclass = No HD'),\n",
       " Text(331.91379310344826, 152.8875, 'gini = 0.0\\nsamples = 1\\nvalue = [0, 1]\\nclass = Risk of HD'),\n",
       " Text(360.7758620689655, 152.8875, 'gini = 0.0\\nsamples = 2\\nvalue = [2, 0]\\nclass = No HD'),\n",
       " Text(389.6379310344828, 220.83749999999998, 'thalach <= 181.0\\ngini = 0.5\\nsamples = 2\\nvalue = [1, 1]\\nclass = No HD'),\n",
       " Text(375.2068965517241, 186.86249999999998, 'gini = 0.0\\nsamples = 1\\nvalue = [0, 1]\\nclass = Risk of HD'),\n",
       " Text(404.0689655172414, 186.86249999999998, 'gini = 0.0\\nsamples = 1\\nvalue = [1, 0]\\nclass = No HD'),\n",
       " Text(447.36206896551727, 288.78749999999997, 'oldpeak <= 0.45\\ngini = 0.332\\nsamples = 19\\nvalue = [4, 15]\\nclass = Risk of HD'),\n",
       " Text(432.9310344827586, 254.81249999999997, 'age <= 42.0\\ngini = 0.49\\nsamples = 7\\nvalue = [4, 3]\\nclass = No HD'),\n",
       " Text(418.5, 220.83749999999998, 'gini = 0.0\\nsamples = 3\\nvalue = [0, 3]\\nclass = Risk of HD'),\n",
       " Text(447.36206896551727, 220.83749999999998, 'gini = 0.0\\nsamples = 4\\nvalue = [4, 0]\\nclass = No HD'),\n",
       " Text(461.7931034482759, 254.81249999999997, 'gini = 0.0\\nsamples = 12\\nvalue = [0, 12]\\nclass = Risk of HD'),\n",
       " Text(681.8663793103449, 356.73749999999995, 'cp_4.0 <= 0.5\\ngini = 0.346\\nsamples = 90\\nvalue = [20, 70]\\nclass = Risk of HD'),\n",
       " Text(598.8879310344828, 322.7625, 'oldpeak <= 0.55\\ngini = 0.499\\nsamples = 31\\nvalue = [16, 15]\\nclass = No HD'),\n",
       " Text(533.948275862069, 288.78749999999997, 'cp_2.0 <= 0.5\\ngini = 0.401\\nsamples = 18\\nvalue = [13, 5]\\nclass = No HD'),\n",
       " Text(490.65517241379314, 254.81249999999997, 'oldpeak <= 0.35\\ngini = 0.165\\nsamples = 11\\nvalue = [10, 1]\\nclass = No HD'),\n",
       " Text(476.2241379310345, 220.83749999999998, 'gini = 0.0\\nsamples = 9\\nvalue = [9, 0]\\nclass = No HD'),\n",
       " Text(505.08620689655174, 220.83749999999998, 'chol <= 251.0\\ngini = 0.5\\nsamples = 2\\nvalue = [1, 1]\\nclass = No HD'),\n",
       " Text(490.65517241379314, 186.86249999999998, 'gini = 0.0\\nsamples = 1\\nvalue = [0, 1]\\nclass = Risk of HD'),\n",
       " Text(519.5172413793103, 186.86249999999998, 'gini = 0.0\\nsamples = 1\\nvalue = [1, 0]\\nclass = No HD'),\n",
       " Text(577.2413793103449, 254.81249999999997, 'trestbps <= 134.0\\ngini = 0.49\\nsamples = 7\\nvalue = [3, 4]\\nclass = Risk of HD'),\n",
       " Text(562.8103448275862, 220.83749999999998, 'slope_1.0 <= 0.5\\ngini = 0.375\\nsamples = 4\\nvalue = [3, 1]\\nclass = No HD'),\n",
       " Text(548.3793103448276, 186.86249999999998, 'gini = 0.0\\nsamples = 1\\nvalue = [0, 1]\\nclass = Risk of HD'),\n",
       " Text(577.2413793103449, 186.86249999999998, 'gini = 0.0\\nsamples = 3\\nvalue = [3, 0]\\nclass = No HD'),\n",
       " Text(591.6724137931035, 220.83749999999998, 'gini = 0.0\\nsamples = 3\\nvalue = [0, 3]\\nclass = Risk of HD'),\n",
       " Text(663.8275862068965, 288.78749999999997, 'trestbps <= 139.0\\ngini = 0.355\\nsamples = 13\\nvalue = [3, 10]\\nclass = Risk of HD'),\n",
       " Text(634.9655172413793, 254.81249999999997, 'ca <= 2.5\\ngini = 0.18\\nsamples = 10\\nvalue = [1, 9]\\nclass = Risk of HD'),\n",
       " Text(620.5344827586207, 220.83749999999998, 'gini = 0.0\\nsamples = 7\\nvalue = [0, 7]\\nclass = Risk of HD'),\n",
       " Text(649.3965517241379, 220.83749999999998, 'thalach <= 142.5\\ngini = 0.444\\nsamples = 3\\nvalue = [1, 2]\\nclass = Risk of HD'),\n",
       " Text(634.9655172413793, 186.86249999999998, 'gini = 0.0\\nsamples = 2\\nvalue = [0, 2]\\nclass = Risk of HD'),\n",
       " Text(663.8275862068965, 186.86249999999998, 'gini = 0.0\\nsamples = 1\\nvalue = [1, 0]\\nclass = No HD'),\n",
       " Text(692.6896551724138, 254.81249999999997, 'thalach <= 151.5\\ngini = 0.444\\nsamples = 3\\nvalue = [2, 1]\\nclass = No HD'),\n",
       " Text(678.2586206896552, 220.83749999999998, 'gini = 0.0\\nsamples = 1\\nvalue = [0, 1]\\nclass = Risk of HD'),\n",
       " Text(707.1206896551724, 220.83749999999998, 'gini = 0.0\\nsamples = 2\\nvalue = [2, 0]\\nclass = No HD'),\n",
       " Text(764.8448275862069, 322.7625, 'trestbps <= 109.0\\ngini = 0.126\\nsamples = 59\\nvalue = [4, 55]\\nclass = Risk of HD'),\n",
       " Text(735.9827586206897, 288.78749999999997, 'thalach <= 151.5\\ngini = 0.5\\nsamples = 4\\nvalue = [2, 2]\\nclass = No HD'),\n",
       " Text(721.551724137931, 254.81249999999997, 'gini = 0.0\\nsamples = 2\\nvalue = [2, 0]\\nclass = No HD'),\n",
       " Text(750.4137931034483, 254.81249999999997, 'gini = 0.0\\nsamples = 2\\nvalue = [0, 2]\\nclass = Risk of HD'),\n",
       " Text(793.7068965517242, 288.78749999999997, 'age <= 63.5\\ngini = 0.07\\nsamples = 55\\nvalue = [2, 53]\\nclass = Risk of HD'),\n",
       " Text(779.2758620689656, 254.81249999999997, 'gini = 0.0\\nsamples = 44\\nvalue = [0, 44]\\nclass = Risk of HD'),\n",
       " Text(808.1379310344828, 254.81249999999997, 'restecg_2.0 <= 0.5\\ngini = 0.298\\nsamples = 11\\nvalue = [2, 9]\\nclass = Risk of HD'),\n",
       " Text(793.7068965517242, 220.83749999999998, 'age <= 65.0\\ngini = 0.5\\nsamples = 4\\nvalue = [2, 2]\\nclass = No HD'),\n",
       " Text(779.2758620689656, 186.86249999999998, 'gini = 0.0\\nsamples = 2\\nvalue = [2, 0]\\nclass = No HD'),\n",
       " Text(808.1379310344828, 186.86249999999998, 'gini = 0.0\\nsamples = 2\\nvalue = [0, 2]\\nclass = Risk of HD'),\n",
       " Text(822.5689655172414, 220.83749999999998, 'gini = 0.0\\nsamples = 7\\nvalue = [0, 7]\\nclass = Risk of HD')]"
      ]
     },
     "execution_count": 35,
     "metadata": {},
     "output_type": "execute_result"
    },
    {
     "data": {
      "image/png": "[encoded data removed]",
      "text/plain": [
       "<Figure size 1080x540 with 1 Axes>"
      ]
     },
     "metadata": {
      "needs_background": "light"
     },
     "output_type": "display_data"
    }
   ],
   "source": [
    "plt.figure(figsize=(15, 7.5))\n",
    "plot_tree(clf_dt,\n",
    "         filled=True,\n",
    "         rounded=True,\n",
    "         class_names=['No HD', 'Risk of HD'],\n",
    "         feature_names=X_encoded.columns)"
   ]
  },
  {
   "cell_type": "code",
   "execution_count": 36,
   "metadata": {},
   "outputs": [
    {
     "data": {
      "text/plain": [
       "<sklearn.metrics._plot.confusion_matrix.ConfusionMatrixDisplay at 0x21fc6bd6ac0>"
      ]
     },
     "execution_count": 36,
     "metadata": {},
     "output_type": "execute_result"
    },
    {
     "data": {
      "image/png": "[encoded data removed]",
      "text/plain": [
       "<Figure size 432x288 with 2 Axes>"
      ]
     },
     "metadata": {
      "needs_background": "light"
     },
     "output_type": "display_data"
    }
   ],
   "source": [
    "plot_confusion_matrix(clf_dt, X_test, y_test, display_labels=['No HD', 'Risk of HD'])"
   ]
  },
  {
   "cell_type": "code",
   "execution_count": 38,
   "metadata": {},
   "outputs": [
    {
     "name": "stdout",
     "output_type": "stream",
     "text": [
      "73.81 % predicted No HD\n",
      "78.79 % predicted Risk of HD\n"
     ]
    }
   ],
   "source": [
    "print(f'{(31/(31+11))*100:.2f} % predicted No HD')\n",
    "print(f'{(26/(26+7))*100:.2f} % predicted Risk of HD')"
   ]
  },
  {
   "cell_type": "markdown",
   "metadata": {},
   "source": [
    "### Tree Pruning"
   ]
  },
  {
   "cell_type": "code",
   "execution_count": 40,
   "metadata": {},
   "outputs": [
    {
     "data": {
      "text/plain": [
       "array([0.        , 0.00295295, 0.003861  , 0.00405405, 0.004095  ,\n",
       "       0.00429358, 0.00514801, 0.00541298, 0.00578761, 0.00600601,\n",
       "       0.00600601, 0.00600601, 0.00667591, 0.00675676, 0.00757375,\n",
       "       0.00811505, 0.00868726, 0.00889851, 0.01038181, 0.0105777 ,\n",
       "       0.01422475, 0.01604051, 0.01642461, 0.02103075, 0.03680006,\n",
       "       0.03934523])"
      ]
     },
     "execution_count": 40,
     "metadata": {},
     "output_type": "execute_result"
    }
   ],
   "source": [
    "path = clf_dt.cost_complexity_pruning_path(X_train, y_train)\n",
    "ccp_alphas = path.ccp_alphas\n",
    "ccp_alphas = ccp_alphas[:-1]\n",
    "ccp_alphas"
   ]
  },
  {
   "cell_type": "code",
   "execution_count": 41,
   "metadata": {},
   "outputs": [],
   "source": [
    "clf_dts = []\n",
    "for ccp_alpha in ccp_alphas:\n",
    "    clf_dt = DecisionTreeClassifier(random_state=0, ccp_alpha=ccp_alpha)\n",
    "    clf_dt.fit(X_train, y_train)\n",
    "    clf_dts.append(clf_dt)"
   ]
  },
  {
   "cell_type": "code",
   "execution_count": 42,
   "metadata": {},
   "outputs": [],
   "source": [
    "train_scores = [clf_dt.score(X_train, y_train) for clf_dt in clf_dts]\n",
    "test_scores = [clf_dt.score(X_test, y_test) for clf_dt in clf_dts]"
   ]
  },
  {
   "cell_type": "code",
   "execution_count": 43,
   "metadata": {},
   "outputs": [
    {
     "data": {
      "image/png": "[encoded data removed]",
      "text/plain": [
       "<Figure size 432x288 with 1 Axes>"
      ]
     },
     "metadata": {
      "needs_background": "light"
     },
     "output_type": "display_data"
    }
   ],
   "source": [
    "fig, ax = plt.subplots()\n",
    "ax.set_xlabel(\"'alpha'\")\n",
    "ax.set_ylabel('accuracy')\n",
    "ax.set_title('Accuracy vs alpha for traing and testing sets')\n",
    "ax.plot(ccp_alphas, train_scores, marker='o', label='train', drawstyle='steps-post')\n",
    "ax.plot(ccp_alphas, test_scores, marker='o', label='test', drawstyle='steps-post')\n",
    "ax.legend()\n",
    "plt.show()"
   ]
  },
  {
   "cell_type": "markdown",
   "metadata": {},
   "source": [
    "### Cross validation score"
   ]
  },
  {
   "cell_type": "code",
   "execution_count": 46,
   "metadata": {},
   "outputs": [
    {
     "data": {
      "text/plain": [
       "<AxesSubplot:xlabel='tree'>"
      ]
     },
     "execution_count": 46,
     "metadata": {},
     "output_type": "execute_result"
    },
    {
     "data": {
      "image/png": "[encoded data removed]",
      "text/plain": [
       "<Figure size 432x288 with 1 Axes>"
      ]
     },
     "metadata": {
      "needs_background": "light"
     },
     "output_type": "display_data"
    }
   ],
   "source": [
    "clf_dt = DecisionTreeClassifier(random_state=42, ccp_alpha=0.016)\n",
    "scores = cross_val_score(clf_dt, X_train, y_train, cv=5)\n",
    "\n",
    "df = pd.DataFrame(data={'tree': range(5), 'accuracy': scores})\n",
    "df.plot(x='tree', y='accuracy', marker='o', linestyle='--')"
   ]
  },
  {
   "cell_type": "code",
   "execution_count": 48,
   "metadata": {},
   "outputs": [],
   "source": [
    "alpha_loop_scores = []\n",
    "\n",
    "for ccp_alpha in ccp_alphas:\n",
    "    clf_dt = DecisionTreeClassifier(random_state=0, ccp_alpha=ccp_alpha)\n",
    "    scores = cross_val_score(clf_dt, X_train, y_train, cv=5)\n",
    "    alpha_loop_scores.append([ccp_alpha, np.mean(scores), np.std(scores)])"
   ]
  },
  {
   "cell_type": "code",
   "execution_count": 49,
   "metadata": {
    "collapsed": true,
    "jupyter": {
     "outputs_hidden": true
    }
   },
   "outputs": [
    {
     "data": {
      "text/plain": [
       "[[0.0, 0.6755555555555556, 0.09932976083537857],\n",
       " [0.0029529529529529544, 0.6755555555555556, 0.09932976083537857],\n",
       " [0.003861003861003862, 0.6799999999999999, 0.09317304439819664],\n",
       " [0.004054054054054055, 0.6799999999999999, 0.09317304439819664],\n",
       " [0.004095004095004095, 0.6799999999999999, 0.09317304439819664],\n",
       " [0.004293579293579285, 0.6799999999999999, 0.09317304439819664],\n",
       " [0.005148005148005148, 0.6799999999999999, 0.09317304439819664],\n",
       " [0.005412976001211295, 0.7026262626262627, 0.10306466054194952],\n",
       " [0.005787605787605791, 0.7162626262626264, 0.1039164702661334],\n",
       " [0.006006006006006006, 0.7162626262626264, 0.1039164702661334],\n",
       " [0.006006006006006006, 0.7162626262626264, 0.1039164702661334],\n",
       " [0.006006006006006006, 0.7162626262626264, 0.1039164702661334],\n",
       " [0.006675906675906675, 0.7162626262626264, 0.1039164702661334],\n",
       " [0.006756756756756757, 0.7162626262626264, 0.1039164702661334],\n",
       " [0.007573750220809049, 0.7027272727272728, 0.12205080223702487],\n",
       " [0.008115048793014888, 0.7117171717171716, 0.11635092172398907],\n",
       " [0.008687258687258686, 0.7294949494949495, 0.09197389869422856],\n",
       " [0.008898508898508902, 0.7250505050505052, 0.09742559078717762],\n",
       " [0.01038181038181038, 0.7252525252525253, 0.07866410894764451],\n",
       " [0.010577695922523542, 0.7297979797979798, 0.07930354429366311],\n",
       " [0.014224751066856332, 0.7477777777777778, 0.0913952209896835],\n",
       " [0.016040512147297445, 0.73, 0.10821788720498618],\n",
       " [0.01642461319880674, 0.73, 0.10821788720498618],\n",
       " [0.0210307473465368, 0.6981818181818181, 0.10958390288846323],\n",
       " [0.036800058669932925, 0.666969696969697, 0.0765258018390362],\n",
       " [0.039345232893619964, 0.666969696969697, 0.0765258018390362]]"
      ]
     },
     "execution_count": 49,
     "metadata": {},
     "output_type": "execute_result"
    }
   ],
   "source": [
    "alpha_loop_scores"
   ]
  },
  {
   "cell_type": "code",
   "execution_count": 51,
   "metadata": {},
   "outputs": [
    {
     "data": {
      "text/plain": [
       "<AxesSubplot:xlabel='alpha'>"
      ]
     },
     "execution_count": 51,
     "metadata": {},
     "output_type": "execute_result"
    },
    {
     "data": {
      "image/png": "[encoded data removed]",
      "text/plain": [
       "<Figure size 432x288 with 1 Axes>"
      ]
     },
     "metadata": {
      "needs_background": "light"
     },
     "output_type": "display_data"
    }
   ],
   "source": [
    "alpha_results = pd.DataFrame(alpha_loop_scores, columns=['alpha', 'mean_accuracy', 'std'])\n",
    "alpha_results.plot(x='alpha', y='mean_accuracy', yerr='std', marker='o', linestyle='--')"
   ]
  },
  {
   "cell_type": "code",
   "execution_count": 52,
   "metadata": {},
   "outputs": [
    {
     "data": {
      "text/html": [
       "<div>\n",
       "<style scoped>\n",
       "    .dataframe tbody tr th:only-of-type {\n",
       "        vertical-align: middle;\n",
       "    }\n",
       "\n",
       "    .dataframe tbody tr th {\n",
       "        vertical-align: top;\n",
       "    }\n",
       "\n",
       "    .dataframe thead th {\n",
       "        text-align: right;\n",
       "    }\n",
       "</style>\n",
       "<table border=\"1\" class=\"dataframe\">\n",
       "  <thead>\n",
       "    <tr style=\"text-align: right;\">\n",
       "      <th></th>\n",
       "      <th>alpha</th>\n",
       "      <th>mean_accuracy</th>\n",
       "      <th>std</th>\n",
       "    </tr>\n",
       "  </thead>\n",
       "  <tbody>\n",
       "    <tr>\n",
       "      <th>20</th>\n",
       "      <td>0.014225</td>\n",
       "      <td>0.747778</td>\n",
       "      <td>0.091395</td>\n",
       "    </tr>\n",
       "  </tbody>\n",
       "</table>\n",
       "</div>"
      ],
      "text/plain": [
       "       alpha  mean_accuracy       std\n",
       "20  0.014225       0.747778  0.091395"
      ]
     },
     "execution_count": 52,
     "metadata": {},
     "output_type": "execute_result"
    }
   ],
   "source": [
    "alpha_results[(alpha_results['alpha'] > 0.014) & (alpha_results['alpha'] < 0.015)]"
   ]
  },
  {
   "cell_type": "code",
   "execution_count": 53,
   "metadata": {},
   "outputs": [
    {
     "data": {
      "text/plain": [
       "20    0.014225\n",
       "Name: alpha, dtype: float64"
      ]
     },
     "execution_count": 53,
     "metadata": {},
     "output_type": "execute_result"
    }
   ],
   "source": [
    "optimal_alpha = alpha_results[(alpha_results['alpha'] > 0.014) & (alpha_results['alpha'] < 0.015)]['alpha']\n",
    "optimal_alpha"
   ]
  },
  {
   "cell_type": "code",
   "execution_count": 54,
   "metadata": {},
   "outputs": [
    {
     "data": {
      "text/plain": [
       "0.014224751066856332"
      ]
     },
     "execution_count": 54,
     "metadata": {},
     "output_type": "execute_result"
    }
   ],
   "source": [
    "optimal_alpha = float(optimal_alpha)\n",
    "optimal_alpha"
   ]
  },
  {
   "cell_type": "markdown",
   "metadata": {},
   "source": [
    "### Final tree"
   ]
  },
  {
   "cell_type": "code",
   "execution_count": 61,
   "metadata": {},
   "outputs": [],
   "source": [
    "clf_dt_pruned = DecisionTreeClassifier(random_state=42, ccp_alpha=optimal_alpha, criterion='gini')\n",
    "clf_dt_pruned = clf_dt_pruned.fit(X_train, y_train)"
   ]
  },
  {
   "cell_type": "code",
   "execution_count": 62,
   "metadata": {},
   "outputs": [
    {
     "data": {
      "text/plain": [
       "<sklearn.metrics._plot.confusion_matrix.ConfusionMatrixDisplay at 0x21fc6b686a0>"
      ]
     },
     "execution_count": 62,
     "metadata": {},
     "output_type": "execute_result"
    },
    {
     "data": {
      "image/png": "[encoded data removed]",
      "text/plain": [
       "<Figure size 432x288 with 2 Axes>"
      ]
     },
     "metadata": {
      "needs_background": "light"
     },
     "output_type": "display_data"
    }
   ],
   "source": [
    "plot_confusion_matrix(clf_dt_pruned, X_test, y_test, display_labels=['No HD', 'Risk of HD'])"
   ]
  },
  {
   "cell_type": "code",
   "execution_count": 57,
   "metadata": {},
   "outputs": [
    {
     "name": "stdout",
     "output_type": "stream",
     "text": [
      "80.95 % predicted No HD\n",
      "84.85 % predicted Risk of HD\n"
     ]
    }
   ],
   "source": [
    "print(f'{(34/(34+8))*100:.2f} % predicted No HD')\n",
    "print(f'{(28/(28+5))*100:.2f} % predicted Risk of HD')"
   ]
  },
  {
   "cell_type": "code",
   "execution_count": 58,
   "metadata": {},
   "outputs": [
    {
     "data": {
      "text/plain": [
       "[Text(482.8846153846154, 356.7375, 'ca <= 0.5\\ngini = 0.498\\nsamples = 222\\nvalue = [118, 104]\\nclass = No HD'),\n",
       " Text(257.53846153846155, 254.8125, 'thal_7.0 <= 0.5\\ngini = 0.382\\nsamples = 132\\nvalue = [98, 34]\\nclass = No HD'),\n",
       " Text(128.76923076923077, 152.8875, 'oldpeak <= 2.7\\ngini = 0.24\\nsamples = 93\\nvalue = [80, 13]\\nclass = No HD'),\n",
       " Text(64.38461538461539, 50.96249999999998, 'gini = 0.185\\nsamples = 87\\nvalue = [78, 9]\\nclass = No HD'),\n",
       " Text(193.15384615384616, 50.96249999999998, 'gini = 0.444\\nsamples = 6\\nvalue = [2, 4]\\nclass = Risk of HD'),\n",
       " Text(386.3076923076923, 152.8875, 'cp_4.0 <= 0.5\\ngini = 0.497\\nsamples = 39\\nvalue = [18, 21]\\nclass = Risk of HD'),\n",
       " Text(321.9230769230769, 50.96249999999998, 'gini = 0.42\\nsamples = 20\\nvalue = [14, 6]\\nclass = No HD'),\n",
       " Text(450.69230769230774, 50.96249999999998, 'gini = 0.332\\nsamples = 19\\nvalue = [4, 15]\\nclass = Risk of HD'),\n",
       " Text(708.2307692307693, 254.8125, 'cp_4.0 <= 0.5\\ngini = 0.346\\nsamples = 90\\nvalue = [20, 70]\\nclass = Risk of HD'),\n",
       " Text(643.8461538461538, 152.8875, 'oldpeak <= 0.55\\ngini = 0.499\\nsamples = 31\\nvalue = [16, 15]\\nclass = No HD'),\n",
       " Text(579.4615384615385, 50.96249999999998, 'gini = 0.401\\nsamples = 18\\nvalue = [13, 5]\\nclass = No HD'),\n",
       " Text(708.2307692307693, 50.96249999999998, 'gini = 0.355\\nsamples = 13\\nvalue = [3, 10]\\nclass = Risk of HD'),\n",
       " Text(772.6153846153846, 152.8875, 'gini = 0.126\\nsamples = 59\\nvalue = [4, 55]\\nclass = Risk of HD')]"
      ]
     },
     "execution_count": 58,
     "metadata": {},
     "output_type": "execute_result"
    },
    {
     "data": {
      "image/png": "[encoded data removed]",
      "text/plain": [
       "<Figure size 1080x540 with 1 Axes>"
      ]
     },
     "metadata": {
      "needs_background": "light"
     },
     "output_type": "display_data"
    }
   ],
   "source": [
    "plt.figure(figsize=(15, 7.5))\n",
    "plot_tree(clf_dt_pruned,\n",
    "         filled=True,\n",
    "         rounded=True,\n",
    "         class_names=['No HD', 'Risk of HD'],\n",
    "         feature_names=X_encoded.columns)"
   ]
  }
 ],
 "metadata": {
  "kernelspec": {
   "display_name": "Python 3",
   "language": "python",
   "name": "python3"
  },
  "language_info": {
   "codemirror_mode": {
    "name": "ipython",
    "version": 3
   },
   "file_extension": ".py",
   "mimetype": "text/x-python",
   "name": "python",
   "nbconvert_exporter": "python",
   "pygments_lexer": "ipython3",
   "version": "3.8.5"
  }
 },
 "nbformat": 4,
 "nbformat_minor": 4
}
